{
 "cells": [
  {
   "cell_type": "markdown",
   "metadata": {},
   "source": [
    "### 4. Nonrepeating Character\n",
    "__GOAL__:\n",
    "    Have the function NonrepeatingCharacter(str) take the str parameter being passed, which will contain only alphabetic characters and spaces, and return the first non-repeating character. \n",
    "    For example: if str is \"agettkgaeee\" then your program should return k. The string will always contain at least one character and there will always be at least one non-repeating character.\n",
    "\n",
    "__Examples__\n",
    "Input: \"abcdef\"\n",
    "Output: aInput: \"hello world hi hey\"\n",
    "Output: w\n",
    "\n"
   ]
  },
  {
   "cell_type": "code",
   "execution_count": 1,
   "metadata": {},
   "outputs": [],
   "source": [
    "def NonrepeatingCharacter(strArray):\n",
    "  for char in strArray:\n",
    "    if(char!=' '):\n",
    "      if(strArray.count(char)<2):\n",
    "        return char\n",
    "\n",
    "\n"
   ]
  },
  {
   "cell_type": "code",
   "execution_count": 2,
   "metadata": {},
   "outputs": [
    {
     "name": "stdout",
     "output_type": "stream",
     "text": [
      "b\n"
     ]
    }
   ],
   "source": [
    "strArray=\"abcaadde\"\n",
    "print(NonrepeatingCharacter(strArray))"
   ]
  }
 ],
 "metadata": {
  "kernelspec": {
   "display_name": "Python 3",
   "language": "python",
   "name": "python3"
  },
  "language_info": {
   "codemirror_mode": {
    "name": "ipython",
    "version": 3
   },
   "file_extension": ".py",
   "mimetype": "text/x-python",
   "name": "python",
   "nbconvert_exporter": "python",
   "pygments_lexer": "ipython3",
   "version": "3.7.4"
  }
 },
 "nbformat": 4,
 "nbformat_minor": 2
}
