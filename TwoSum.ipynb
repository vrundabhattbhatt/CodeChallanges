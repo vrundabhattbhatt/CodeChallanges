{
 "cells": [
  {
   "cell_type": "markdown",
   "metadata": {},
   "source": [
    "### 5. Two Sum\n",
    "__GOAL__\n",
    "Have the function TwoSum(arr) take the array of integers stored in arr, and determine if any two numbers (excluding the first element) in the array can sum up to the first element in the array. For example: if arr is [7, 3, 5, 2, -4, 8, 11], then there are actually two pairs that sum to the number 7: [5, 2] and [-4, 11]. Your program should return all pairs, with the numbers separated by a comma, in the order the first number appears in the array. Pairs should be separated by a space. So for the example above, your program would return: 5,2 -4,11\n",
    "\n",
    "If there are no two numbers that sum to the first element in the array, return -1\n",
    "\n",
    "__Examples__\n",
    "Input: [17, 4, 5, 6, 10, 11, 4, -3, -5, 3, 15, 2, 7]\n",
    "Output: 6,11 10,7 15,2\n",
    "Input: [7, 6, 4, 1, 7, -2, 3, 12]\n",
    "Output: 6,1 4,3"
   ]
  },
  {
   "cell_type": "code",
   "execution_count": 1,
   "metadata": {},
   "outputs": [],
   "source": [
    "def TwoSum(arr):\n",
    "\n",
    "  target_sum=arr[0]\n",
    "  arr_length=len(arr)\n",
    "  returnstr=\"\"\n",
    "  for i in range(1,arr_length):\n",
    "    for j in range (i+1,arr_length):\n",
    "      if (arr[i]+arr[j]==target_sum):\n",
    "        returnstr = returnstr + \"{0},{1} \".format(arr[i],arr[j])\n",
    "  return returnstr\n",
    "\n",
    "# keep this function call here \n",
    "print TwoSum(raw_input())\n",
    "\n",
    "\n"
   ]
  },
  {
   "cell_type": "code",
   "execution_count": 2,
   "metadata": {},
   "outputs": [
    {
     "name": "stdout",
     "output_type": "stream",
     "text": [
      "b\n"
     ]
    }
   ],
   "source": [
    "strArray=\"abcaadde\"\n",
    "print(NonrepeatingCharacter(strArray))"
   ]
  }
 ],
 "metadata": {
  "kernelspec": {
   "display_name": "Python 3",
   "language": "python",
   "name": "python3"
  },
  "language_info": {
   "codemirror_mode": {
    "name": "ipython",
    "version": 3
   },
   "file_extension": ".py",
   "mimetype": "text/x-python",
   "name": "python",
   "nbconvert_exporter": "python",
   "pygments_lexer": "ipython3",
   "version": "3.7.4"
  }
 },
 "nbformat": 4,
 "nbformat_minor": 2
}
