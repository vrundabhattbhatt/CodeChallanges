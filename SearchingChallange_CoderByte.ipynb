{
 "cells": [
  {
   "cell_type": "markdown",
   "metadata": {},
   "source": [
    "## Problem Statement\n",
    "\n",
    "### __1. Searching Challange:__\n",
    "Create a function to read the array of strings stored in a string array which will be a 4X4 matrix of the characters of \"C\",\"H\",\"F\" ,\"O\" where \n",
    "\n",
    "- \"C\" represents Charlie the dog\n",
    "- \"H\" reprsents its home\n",
    "- \"F\" represents dog food\n",
    "- \"O\" represents empty space in grid\n",
    "\n",
    "__GOAL__\n",
    "\n",
    "The goal is to figure out the least amount of moves required to get  Charlie to grab each piece of food in the grid by moving up, down, top or left and then make it home right after. \n",
    "\n",
    "Charlie cannot move onto the home before all pieces of food have been collected.\n",
    "\n",
    "The grid will alwasy contain between 1 to 8 pieces of food.\n",
    "\n",
    "\n",
    "__Example__\n",
    "\n",
    "if strAr is [\"FOOF\", \"OCOO\", \"OOOH\", \"FOOO\"] then the least amount of steps where dog can reach each piece of food and then return hom is 11 steps. \n",
    "\n",
    "*Grid would look like*\n",
    "\n",
    "F O O F\n",
    "\n",
    "O C O O\n",
    "\n",
    "O O O H\n",
    "\n",
    "F O O O\n",
    "\n",
    "\n",
    "if strAr is [\"FOOO\", \"OCOH\", \"OFOF\", \"OFOO\"] then the least amount of steps where dog can reach each piece of food and then return hom is 10 steps. \n",
    "\n",
    "*Grid would look like*\n",
    "\n",
    "F O O O\n",
    "\n",
    "O C O H\n",
    "\n",
    "O F O F\n",
    "\n",
    "O F O O\n",
    "\n",
    "\n",
    "if strAr is [\"FOOO\", \"OCOH\", \"OFOF\", \"OFOO\"] then the least amount of steps where dog can reach each piece of food and then return hom is 10 steps. \n",
    "\n",
    "*Grid would look like*\n",
    "\n",
    "F O O O\n",
    "\n",
    "O C O H\n",
    "\n",
    "O F O F\n",
    "\n",
    "O F O O"
   ]
  },
  {
   "cell_type": "markdown",
   "metadata": {},
   "source": [
    "#### import libraries required"
   ]
  },
  {
   "cell_type": "code",
   "execution_count": 7,
   "metadata": {
    "scrolled": true
   },
   "outputs": [],
   "source": [
    "import numpy  as np\n",
    "import itertools\n"
   ]
  },
  {
   "cell_type": "markdown",
   "metadata": {},
   "source": [
    "#### create a function to get coordinates for Food, Home and Dog and store in a seperate array "
   ]
  },
  {
   "cell_type": "code",
   "execution_count": 8,
   "metadata": {},
   "outputs": [],
   "source": [
    "def get_food_home_dog_corordinates(gridArray):\n",
    "    food_coordinates = []\n",
    "    dog_coordinates = [-1, -1]\n",
    "    home_coordinates = [-1, -1]\n",
    "\n",
    "    for row in range(0, len(gridArray)):\n",
    "        row_val = gridArray[row]\n",
    "        for col in range(0, len(row_val)):\n",
    "            strchar = gridArray[row][col]\n",
    "            pos = [row, col]\n",
    "            if (strchar == \"F\"):\n",
    "                food_coordinates.append(pos)\n",
    "            elif (strchar == \"C\"):\n",
    "                dog_coordinates = pos\n",
    "            elif (strchar == \"H\"):\n",
    "                home_coordinates = pos\n",
    "                \n",
    "    return food_coordinates,home_coordinates,dog_coordinates"
   ]
  },
  {
   "cell_type": "markdown",
   "metadata": {},
   "source": [
    "#### Create a function to calculate length for a route"
   ]
  },
  {
   "cell_type": "code",
   "execution_count": 9,
   "metadata": {},
   "outputs": [],
   "source": [
    "def calculate_route_length(route):\n",
    "    route_length=0\n",
    "    for i in range(0, len(route)-1):\n",
    "        current_coordinate = route[i]\n",
    "        next_coordinate = route[i + 1]\n",
    "        if (current_coordinate[0] > next_coordinate[0]):\n",
    "            xCoordinatePath = current_coordinate[0] - next_coordinate[0]\n",
    "        else:\n",
    "            xCoordinatePath = next_coordinate[0] - current_coordinate[0]\n",
    "\n",
    "        if (current_coordinate[1] > next_coordinate[1]):\n",
    "            yCoordinatePath = current_coordinate[1] - next_coordinate[1]\n",
    "        else:\n",
    "            yCoordinatePath = next_coordinate[1] - current_coordinate[1]\n",
    "        route_length = route_length + xCoordinatePath + yCoordinatePath\n",
    "\n",
    "    return route_length"
   ]
  },
  {
   "cell_type": "markdown",
   "metadata": {},
   "source": [
    "#### create a function to search grid and return minimum steps needed for the dog to grab all food and then return to home"
   ]
  },
  {
   "cell_type": "code",
   "execution_count": 10,
   "metadata": {},
   "outputs": [],
   "source": [
    "def SearchingChallenge(strArr):\n",
    "    # Create 2D matrix from string array passed as input\n",
    "    gridArray = np.array(list(map(list, strArr)))\n",
    "    \n",
    "    #print grid array for better visulisation of string array passed as input\n",
    "    print(gridArray)\n",
    "\n",
    "    # get coordinates for food, home and dog from matrix\n",
    "    food_coordinates, home_coordinates, dog_coordinates = get_food_home_dog_corordinates(gridArray)\n",
    "\n",
    "    # get all possible routes for grabbing each piece of food in the grid by calculating all permutations of the food coordinates\n",
    "    possible_routes = itertools.permutations(food_coordinates)\n",
    "\n",
    "    # calculate steps needed to complete the route by dog and reach home for each possible route\n",
    "    possible_routes_length=[]\n",
    "    for route in possible_routes:\n",
    "        # Add dog coordinates at start of route\n",
    "        route_with_home_dog =[dog_coordinates]\n",
    "        for coordinate in route:\n",
    "            route_with_home_dog.append(coordinate)\n",
    "\n",
    "        #Add home coordinates at end of route\n",
    "        route_with_home_dog.append(home_coordinates)\n",
    "\n",
    "        # Calculate route length for the route and append in route_length array.\n",
    "        route_length = calculate_route_length(route_with_home_dog)\n",
    "        possible_routes_length.append(route_length)\n",
    "\n",
    "    # return minimum length from all possible route length\n",
    "    return min(possible_routes_length)"
   ]
  },
  {
   "cell_type": "markdown",
   "metadata": {},
   "source": [
    "### Run a Test"
   ]
  },
  {
   "cell_type": "code",
   "execution_count": 11,
   "metadata": {},
   "outputs": [
    {
     "name": "stdout",
     "output_type": "stream",
     "text": [
      "[['F' 'O' 'O' 'F']\n",
      " ['O' 'C' 'O' 'O']\n",
      " ['O' 'O' 'O' 'H']\n",
      " ['F' 'O' 'O' 'O']]\n",
      "Minimum steps required for the dog to grab all food and return to home are:  11\n"
     ]
    }
   ],
   "source": [
    "strarry = [\"FOOF\", \"OCOO\", \"OOOH\", \"FOOO\"]\n",
    "# strarry = [\"OOOO\", \"OOFF\", \"OCHO\", \"OFOO\"]\n",
    "# strarry = [\"FOOO\", \"OCOH\", \"OFOF\", \"OFOO\"]\n",
    "print(\"Minimum steps required for the dog to grab all food and return to home are: \", SearchingChallenge(strarry))\n"
   ]
  }
 ],
 "metadata": {
  "kernelspec": {
   "display_name": "Python 3",
   "language": "python",
   "name": "python3"
  },
  "language_info": {
   "codemirror_mode": {
    "name": "ipython",
    "version": 3
   },
   "file_extension": ".py",
   "mimetype": "text/x-python",
   "name": "python",
   "nbconvert_exporter": "python",
   "pygments_lexer": "ipython3",
   "version": "3.7.4"
  }
 },
 "nbformat": 4,
 "nbformat_minor": 2
}
