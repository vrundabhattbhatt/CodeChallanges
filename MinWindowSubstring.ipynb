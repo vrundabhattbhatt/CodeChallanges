{
 "cells": [
  {
   "cell_type": "markdown",
   "metadata": {},
   "source": [
    "### 3.Min Window Substring\n",
    "Have the function MinWindowSubstring(strArr) take the array of strings stored in strArr, which will contain only two strings, the first parameter being the string __N__ and the second parameter being a string __K__ of some characters, and \n",
    "\n",
    "__GOAL :__\n",
    "Determine the smallest substring of __N__ that contains all the characters in __K__.\n",
    "For example: if strArr is [\"aaabaaddae\", \"aed\"] then the smallest substring of N that contains the characters a, e, and d is \"dae\" located at the end of the string. So for this example your program should return the string dae.\n",
    "\n",
    "__Examples:__\n",
    "Input: [\"aabdccdbcacd\", \"aad\"]\n",
    "Output: aabd\n",
    "Input: [\"ahffaksfajeeubsne\", \"jefaa\"]\n",
    "Output: aksfaje\n",
    "Input: [\"aaffhkksemckelloe\", \"fhea\"]\n",
    "Output: affhkkse\n"
   ]
  },
  {
   "cell_type": "code",
   "execution_count": 3,
   "metadata": {},
   "outputs": [],
   "source": [
    "#### Create a function to return the minimum window of substring"
   ]
  },
  {
   "cell_type": "code",
   "execution_count": 4,
   "metadata": {},
   "outputs": [],
   "source": [
    "def MinWindowSubstring(strArr):\n",
    "\n",
    "  mainstr=strArr[0]\n",
    "  mainstr_len=len(mainstr)\n",
    "  searchstr=strArr[1]\n",
    "  searchstr_len=len(searchstr)\n",
    "  substr_with_length={}\n",
    "\n",
    "  for i in range(0,mainstr_len+1):\n",
    "    for j in range(i,mainstr_len+1):\n",
    "        substr=mainstr[i:j]\n",
    "        searchstr_counter=0\n",
    "        for search_char in searchstr:\n",
    "          if (search_char in substr and substr.count(search_char)>=searchstr.count(search_char)):\n",
    "            searchstr_counter=searchstr_counter+1\n",
    "        if(searchstr_counter==searchstr_len):\n",
    "          substr_with_length[len(substr)]=substr\n",
    "\n",
    "  return substr_with_length[min(substr_with_length.keys())];"
   ]
  },
  {
   "cell_type": "markdown",
   "metadata": {},
   "source": [
    "#### Run Test"
   ]
  },
  {
   "cell_type": "code",
   "execution_count": 5,
   "metadata": {},
   "outputs": [
    {
     "name": "stdout",
     "output_type": "stream",
     "text": [
      "dae\n"
     ]
    }
   ],
   "source": [
    "strArray = [\"aaabaaddae\", \"aed\"]\n",
    "# strArray=[\"aaffhkksemckelloe\", \"fhea\"]\n",
    "print(MinWindowSubstring(strArray))"
   ]
  }
 ],
 "metadata": {
  "kernelspec": {
   "display_name": "Python 3",
   "language": "python",
   "name": "python3"
  },
  "language_info": {
   "codemirror_mode": {
    "name": "ipython",
    "version": 3
   },
   "file_extension": ".py",
   "mimetype": "text/x-python",
   "name": "python",
   "nbconvert_exporter": "python",
   "pygments_lexer": "ipython3",
   "version": "3.7.4"
  }
 },
 "nbformat": 4,
 "nbformat_minor": 2
}
