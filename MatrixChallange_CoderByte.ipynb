{
 "cells": [
  {
   "cell_type": "markdown",
   "metadata": {},
   "source": [
    "## Problem Statement\n",
    "\n",
    "### __2. Matrix Challange:__\n",
    "\n",
    "Create a function to reas the string array parameter being passed which will make up an __NXN matrix__ where the rows are seperated by each pair of parenthesis ( the matrix will range from 2X2 to 5X5 ).\n",
    "\n",
    "The matrix represents connections between nodes in a graph where each node corresponds to the Nth element in the matrix (with 0 being first node).\n",
    "\n",
    "If a connection exists from one node to another, it will be represented by a __1__, if not it will be represented by __0__.\n",
    "\n",
    "e.g. If the input is a 3X3 matrix with input [\"(1,1,1)\",\"(1,0,0)\",\"(0,1,0)\"]. this means that there is a connection from node\n",
    "\n",
    "- for node 0: 0 to 0, 0 to 1 and 0 to 2\n",
    "- for node 1: 1 to 0\n",
    "- for node 2: 2 to 1. \n",
    "\n",
    "This can be interpreted as a connection existing from node X to node Y if there is a __1__ in the Xth row and Yth column.\n",
    "\n",
    "*NOTE: X to Y does not impy a connection from Y to X*\n",
    "\n",
    "__GOAL__\n",
    "\n",
    "The programme should determine wheather or not the matrix, which represents connections are among the nodes, is __transitive__. \n",
    "\n",
    "__A \"transitive relation\" means that if connections \"0 to 1\" and \"1 to 2\" exists then there must exist the connection \"0 to 2\".__\n",
    "\n",
    "Generalized form: If there is a relatioon xRy and yRz then xRz should exists within matrix. \n",
    "\n",
    "1. If matrix is completely transitive then return the string \"transitive\". \n",
    "2. If it isn't, the program should return the connections needed, in the following format, in order for the matrix to be transitive: (N1,N2)-(N3,N4)-(...)\n",
    "\n",
    "\n",
    "__Example__\n",
    "\n",
    "You can ignore the reflexive property of nodes in answers. Return the connections needed in lexicographical order.\n",
    "\n",
    "1. Input: [\"(1,1,1)\",\"(0,1,1)\",\"(0,1,1)\"]. Output: transitive\n",
    "2. Input: [\"(0,1,0,0)\",\"(0,0,1,0)\",\"(0,0,1,1)\",\"(0,0,0,1)\"]. Output: (0,2)-(1,3)\n",
    "3. Input: [\"(1,1,1)\",\"(1,0,0)\",\"(0,1,0)\"]. Output: (1,2)-(2,0)"
   ]
  },
  {
   "cell_type": "markdown",
   "metadata": {},
   "source": [
    "#### import libraries required"
   ]
  },
  {
   "cell_type": "code",
   "execution_count": 71,
   "metadata": {
    "scrolled": true
   },
   "outputs": [],
   "source": [
    "import numpy  as np"
   ]
  },
  {
   "cell_type": "markdown",
   "metadata": {},
   "source": [
    "### Create a function to check relations in array for transitive matrix"
   ]
  },
  {
   "cell_type": "code",
   "execution_count": 72,
   "metadata": {},
   "outputs": [],
   "source": [
    "def MatrixChallenge(strArr):\n",
    "    mtx = [list(eval(s)) for s in strArr]\n",
    "    pairs_needed_for_transitive=[]\n",
    "    mtx_length=len(mtx)\n",
    "\n",
    "    for x in range(0,mtx_length):\n",
    "        for y in range(0,mtx_length):\n",
    "            for z in range(0,mtx_length):\n",
    "                # if there is relation from x to y and y to z but not from x to z then adding the pair in an array.\n",
    "                if (x!=z and mtx[x][y]==1 and mtx[y][z]==1 and mtx[x][z]!=1):\n",
    "                    pairs_needed_for_transitive.append(\"({0},{1})\".format(x, z))\n",
    "\n",
    "    # if there are any pairs that is required in matrix to make it transitive then the matrix is not transitive.\n",
    "    if (len(pairs_needed_for_transitive)==0):\n",
    "        return \"transitive\"\n",
    "    else:\n",
    "        return \"-\".join(pairs_needed_for_transitive)"
   ]
  },
  {
   "cell_type": "markdown",
   "metadata": {},
   "source": [
    "### below function returns the whole set to see which relations are avilable and missing one to make it transitve"
   ]
  },
  {
   "cell_type": "code",
   "execution_count": 73,
   "metadata": {},
   "outputs": [],
   "source": [
    "# def MatrixChallenge(strArr):\n",
    "#     mtx = [list(eval(s)) for s in strArr]\n",
    "#     pairs_needed_for_transitive=[]\n",
    "#     full_pair=[]\n",
    "#     mtx_length=len(mtx)\n",
    "\n",
    "#     for x in range(0,mtx_length):\n",
    "#         for y in range(0,mtx_length):\n",
    "#             for z in range(0,mtx_length):\n",
    "#                 # if there is relation from x to y and y to z but not from x to z then adding the pair in an array.\n",
    "#                 if (x!=z and mtx[x][y]==1 and mtx[y][z]==1 and mtx[x][z]!=1):\n",
    "#                     pairs_needed_for_transitive.append(\"({0},{1})\".format(x, z))\n",
    "#                     full_pair.append(\"{0}->{1},{1}->{2} available but {0}->{2} not available\".format(x,y,z))\n",
    "\n",
    "#     # if there are any pairs that is required in matrix to make it transitive then the matrix is not transitive.\n",
    "#     if (len(pairs_needed_for_transitive)==0):\n",
    "#         return \"transitive\"\n",
    "#     else:\n",
    "#         return \"\\n\".join(full_pair)"
   ]
  },
  {
   "cell_type": "markdown",
   "metadata": {},
   "source": [
    "### Run a Test"
   ]
  },
  {
   "cell_type": "code",
   "execution_count": 76,
   "metadata": {},
   "outputs": [
    {
     "name": "stdout",
     "output_type": "stream",
     "text": [
      "transitive\n"
     ]
    }
   ],
   "source": [
    "# strarry =[\"(1,1,1)\",\"(1,0,0)\",\"(0,1,0)\"]\n",
    "# strarry= [\"(0,1,0,0)\",\"(0,0,1,0)\",\"(0,0,1,1)\",\"(0,0,0,1)\"]\n",
    "strarry=[\"(1,1,1)\",\"(0,1,1)\",\"(0,1,1)\"]\n",
    "print(MatrixChallenge(strarry))\n"
   ]
  }
 ],
 "metadata": {
  "kernelspec": {
   "display_name": "Python 3",
   "language": "python",
   "name": "python3"
  },
  "language_info": {
   "codemirror_mode": {
    "name": "ipython",
    "version": 3
   },
   "file_extension": ".py",
   "mimetype": "text/x-python",
   "name": "python",
   "nbconvert_exporter": "python",
   "pygments_lexer": "ipython3",
   "version": "3.7.4"
  }
 },
 "nbformat": 4,
 "nbformat_minor": 2
}
